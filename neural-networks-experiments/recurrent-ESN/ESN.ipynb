{
 "cells": [
  {
   "cell_type": "code",
   "execution_count": 1,
   "metadata": {
    "collapsed": true
   },
   "outputs": [],
   "source": [
    "using PyPlot\n",
    "using PyCall\n",
    "@pyimport numpy as np \n",
    "@pyimport numpy.linalg as LA"
   ]
  },
  {
   "cell_type": "markdown",
   "metadata": {},
   "source": [
    "## Functions"
   ]
  },
  {
   "cell_type": "code",
   "execution_count": 8,
   "metadata": {},
   "outputs": [
    {
     "name": "stderr",
     "output_type": "stream",
     "text": [
      "WARNING: Method definition initWres(Any, Any) in module Main at In[2]:3 overwritten at In[8]:3.\n",
      "WARNING: Method definition output(Any, Any"
     ]
    },
    {
     "data": {
      "text/plain": [
       "sigmoid (generic function with 1 method)"
      ]
     },
     "execution_count": 8,
     "metadata": {},
     "output_type": "execute_result"
    },
    {
     "name": "stderr",
     "output_type": "stream",
     "text": [
      ", Any, Any) in module Main at In[2]:13 overwritten at In[8]:13.\n",
      "WARNING: Method definition totmem(Any, Any) in module Main at In[2]:23 overwritten at In[8]:23.\n",
      "WARNING: Method definition error(Any, Any) in module Main at In[2]:33 overwritten at In[8]:35.\n",
      "WARNING: Method definition sigmoid(Any) in module Main at In[2]:39 overwritten at In[8]:41.\n"
     ]
    }
   ],
   "source": [
    "# initializing W_res\n",
    "function initWres(W, s)\n",
    "    W *= s\n",
    "    eigs,vecs = LA.eig(W)\n",
    "    eigs = sqrt(real(eigs.*conj(eigs)))\n",
    "    ρ = maximum(eigs)\n",
    "    \n",
    "    return W, ρ\n",
    "end\n",
    "\n",
    "# desired output with respect to history L\n",
    "function output(L,data,a,b)\n",
    "    D = zeros(500,L)\n",
    "    for l=1:L\n",
    "        D[:,l] = data[a-l:b-l]\n",
    "    end\n",
    "    \n",
    "    return D\n",
    "end\n",
    "\n",
    "# Total Memory Capacity\n",
    "function totmem(D, Y)\n",
    "    s = size(D,2)\n",
    "    TMC=0\n",
    "    MC = zeros(s)\n",
    "    for i=1:s\n",
    "        MC[i] = (cov(Y[:,i],D[:,i]))^2 / (var(Y[:,i]) * var(D[:,i]))\n",
    "        TMC += MC[i]\n",
    "    end\n",
    "    return MC, TMC\n",
    "end\n",
    "\n",
    "# L2 error\n",
    "function error(D, Y)\n",
    "    err = 0\n",
    "    err = sum((Y - D).^2)\n",
    "    return err\n",
    "end\n",
    "\n",
    "# fuj sigmoid\n",
    "function sigmoid(x)\n",
    "    y = 1 ./ (1 + exp(-x))\n",
    "    return y\n",
    "end"
   ]
  },
  {
   "cell_type": "markdown",
   "metadata": {},
   "source": [
    "## Echo-state network"
   ]
  },
  {
   "cell_type": "code",
   "execution_count": 3,
   "metadata": {},
   "outputs": [
    {
     "data": {
      "text/plain": [
       "echo (generic function with 1 method)"
      ]
     },
     "execution_count": 3,
     "metadata": {},
     "output_type": "execute_result"
    }
   ],
   "source": [
    "# ECHO\n",
    "function echo(dim_res, data, r, W1, W2)\n",
    "    \n",
    "    N = size(data,1)\n",
    "    R = zeros(N, dim_res)\n",
    "    \n",
    "    for i = 1:N\n",
    "        x = data[i]\n",
    "        r = tanh(W1*x + W2*r)  # or sigmoid\n",
    "        R[i,:] = r\n",
    "    end\n",
    "    \n",
    "   return  r, R\n",
    "end"
   ]
  },
  {
   "cell_type": "markdown",
   "metadata": {},
   "source": [
    "## Main"
   ]
  },
  {
   "cell_type": "code",
   "execution_count": 39,
   "metadata": {
    "scrolled": false
   },
   "outputs": [
    {
     "name": "stdout",
     "output_type": "stream",
     "text": [
      "Starting epoch: 1\n",
      "Info: L= 95 progress= 20.0 %\n",
      "Info: L= 95 progress= 40.0 %\n",
      "Info: L= 95 progress= 60.0 %\n",
      "Info: L= 95 progress= 80.0 %\n",
      "Info: L= 95 progress= 100.0 %\n",
      "Starting epoch: 2\n",
      "Info: L= 95 progress= 20.0 %\n",
      "Info: L= 95 progress= 40.0 %\n",
      "Info: L= 95 progress= 60.0 %\n",
      "Info: L= 95 progress= 80.0 %\n",
      "Info: L= 95 progress= 100.0 %\n",
      "Starting epoch: 3\n",
      "Info: L= 95 progress= 20.0 %\n",
      "Info: L= 95 progress= 40.0 %\n",
      "Info: L= 95 progress= 60.0 %\n",
      "Info: L= 95 progress= 80.0 %\n",
      "Info: L= 95 progress= 100.0 %\n",
      "Starting epoch: 4\n",
      "Info: L= 95 progress= 20.0 %\n",
      "Info: L= 95 progress= 40.0 %\n",
      "Info: L= 95 progress= 60.0 %\n",
      "Info: L= 95 progress= 80.0 %\n",
      "Info: L= 95 progress= 100.0 %\n",
      "Starting epoch: 5\n",
      "Info: L= 95 progress= 20.0 %\n",
      "Info: L= 95 progress= 40.0 %\n",
      "Info: L= 95 progress= 60.0 %\n",
      "Info: L= 95 progress= 80.0 %\n",
      "Info: L= 95 progress= 100.0 %\n",
      "Starting epoch: 6\n",
      "Info: L= 95 progress= 20.0 %\n",
      "Info: L= 95 progress= 40.0 %\n",
      "Info: L= 95 progress= 60.0 %\n",
      "Info: L= 95 progress= 80.0 %\n",
      "Info: L= 95 progress= 100.0 %\n",
      "Starting epoch: 7\n",
      "Info: L= 95 progress= 20.0 %\n",
      "Info: L= 95 progress= 40.0 %\n",
      "Info: L= 95 progress= 60.0 %\n",
      "Info: L= 95 progress= 80.0 %\n",
      "Info: L= 95 progress= 100.0 %\n",
      "Starting epoch: 8\n",
      "Info: L= 95 progress= 20.0 %\n",
      "Info: L= 95 progress= 40.0 %\n",
      "Info: L= 95 progress= 60.0 %\n",
      "Info: L= 95 progress= 80.0 %\n",
      "Info: L= 95 progress= 100.0 %\n",
      "Starting epoch: 9\n",
      "Info: L= 95 progress= 20.0 %\n",
      "Info: L= 95 progress= 40.0 %\n",
      "Info: L= 95 progress= 60.0 %\n",
      "Info: L= 95 progress= 80.0 %\n",
      "Info: L= 95 progress= 100.0 %\n",
      "Starting epoch: 10\n",
      "Info: L= 95 progress= 20.0 %\n",
      "Info: L= 95 progress= 40.0 %\n",
      "Info: L= 95 progress= 60.0 %\n",
      "Info: L= 95 progress= 80.0 %\n"
     ]
    },
    {
     "data": {
      "image/png": "[encoded data removed]",
      "text/plain": [
       "PyPlot.Figure(PyObject <matplotlib.figure.Figure object at 0x000000001D981D68>)"
      ]
     },
     "metadata": {},
     "output_type": "display_data"
    },
    {
     "name": "stdout",
     "output_type": "stream",
     "text": [
      "Info: L= 95 progress= 100.0 %\n"
     ]
    },
    {
     "data": {
      "text/plain": [
       "1-element Array{Any,1}:\n",
       " PyObject <matplotlib.lines.Line2D object at 0x000000001DAB5C88>"
      ]
     },
     "execution_count": 39,
     "metadata": {},
     "output_type": "execute_result"
    }
   ],
   "source": [
    "# PARAMETERS\n",
    "\n",
    "dim_in = 1\n",
    "dim_res = 100\n",
    "T = 1100\n",
    "L = 95\n",
    "sparsity = 0.9999999\n",
    "ρmin = 0\n",
    "ρmax = 1.5\n",
    "\n",
    "N = 500\n",
    "epochs = 10\n",
    "\n",
    "#GO!\n",
    "for ep = 1:epochs\n",
    "    println(\"Starting epoch: \",ep)\n",
    "    \n",
    "    #for sparsity = 0.999999:-0.01:0.809999\n",
    "    #for l = 30:5:L\n",
    "        \n",
    "        # INITIALISATION\n",
    "        data = 2*rand(T,1) - 1\n",
    "        W_in = 0.01*(2*rand(dim_res,dim_in) - 1)\n",
    "        W_res0 = np.array(sprandn(dim_res, dim_res, sparsity))\n",
    "        W, ρ1 = initWres(W_res0, 1)\n",
    "\n",
    "        TMC_arr = zeros(N)\n",
    "        Err_arr = zeros(N)\n",
    "        ρ_arr = zeros(N)\n",
    "\n",
    "        for i = 1:N\n",
    "            # Distribution ρmin -> ρmax\n",
    "            scale = ( i/N * (ρmax - ρmin) + ρmin )/ ρ1\n",
    "            W_res, ρ_arr[i] = initWres(W_res0, scale)\n",
    "\n",
    "            r = zeros(dim_res)\n",
    "\n",
    "            # CLEANSING\n",
    "            r, R = echo(dim_res, data[1:100], r, W_in, W_res)\n",
    "\n",
    "            # TRAINING\n",
    "            r, R = echo(dim_res, data[101:600], r, W_in, W_res)\n",
    "\n",
    "            D = output(L,data,101,600)\n",
    "            W_out = pinv(R) * D\n",
    "\n",
    "            # TESTING\n",
    "            r, R = echo(dim_res, data[601:1100], r, W_in, W_res)\n",
    "\n",
    "            D = output(L,data,601,1100)\n",
    "            Y = R * W_out\n",
    "            MC, TMC = totmem(D,Y)\n",
    "            Err = error(D,Y)/(L*500)\n",
    "\n",
    "            TMC_arr[i] = TMC\n",
    "            Err_arr[i] = Err\n",
    "\n",
    "            if i%100 == 0\n",
    "                println(\"Info: L= \",L, \" progress= \", 100*i/N, \" %\")\n",
    "            end\n",
    "        end\n",
    "    scatter(ρ_arr, TMC_arr, s=3, color=\"black\")\n",
    "end\n",
    "title(\"Total memory capacity\")\n",
    "xlabel(\"spectral radius\")\n",
    "ylabel(\"TMC\")\n",
    "plot((1, 1), (-1, 51), \"r--\");\n",
    "#savefig(\"MC.pdf\")"
   ]
  },
  {
   "cell_type": "code",
   "execution_count": null,
   "metadata": {
    "collapsed": true
   },
   "outputs": [],
   "source": []
  }
 ],
 "metadata": {
  "kernelspec": {
   "display_name": "Python 3",
   "language": "python",
   "name": "python3"
  },
  "language_info": {
   "codemirror_mode": {
    "name": "ipython",
    "version": 3
   },
   "file_extension": ".py",
   "mimetype": "text/x-python",
   "name": "python",
   "nbconvert_exporter": "python",
   "pygments_lexer": "ipython3",
   "version": "3.6.2"
  }
 },
 "nbformat": 4,
 "nbformat_minor": 2
}
